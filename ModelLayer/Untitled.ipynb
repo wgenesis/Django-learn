{
 "cells": [
  {
   "cell_type": "code",
   "execution_count": 1,
   "metadata": {},
   "outputs": [],
   "source": [
    "import django\n",
    "import os\n",
    "os.environ.setdefault(\"DJANGO_SETTINGS_MODULE\",\"ModelLayer.settings\")\n",
    "django.setup()\n",
    "os.environ[\"DJANGO_ALLOW_ASYNC_UNSAFE\"]=\"true\""
   ]
  },
  {
   "cell_type": "code",
   "execution_count": 2,
   "metadata": {},
   "outputs": [],
   "source": [
    "from model_learn.models import Person,Group,Membership\n",
    "import datetime"
   ]
  },
  {
   "cell_type": "code",
   "execution_count": 3,
   "metadata": {},
   "outputs": [
    {
     "data": {
      "text/plain": [
       "<QuerySet []>"
      ]
     },
     "execution_count": 3,
     "metadata": {},
     "output_type": "execute_result"
    }
   ],
   "source": [
    "#获取数据库中所有的Person\n",
    "Person.objects.update()\n",
    "Person.objects.all()"
   ]
  },
  {
   "cell_type": "code",
   "execution_count": 4,
   "metadata": {},
   "outputs": [],
   "source": [
    "#在数据库中新建一个Person\n",
    "person=Person.objects.create(name='hao')"
   ]
  },
  {
   "cell_type": "code",
   "execution_count": 5,
   "metadata": {},
   "outputs": [],
   "source": [
    "group=Group.objects.create(name='GDUT')"
   ]
  },
  {
   "cell_type": "code",
   "execution_count": 6,
   "metadata": {},
   "outputs": [],
   "source": [
    "person.save()\n",
    "group.save()"
   ]
  },
  {
   "cell_type": "code",
   "execution_count": 7,
   "metadata": {},
   "outputs": [
    {
     "data": {
      "text/plain": [
       "<QuerySet [<Membership: Membership object (1)>]>"
      ]
     },
     "execution_count": 7,
     "metadata": {},
     "output_type": "execute_result"
    }
   ],
   "source": [
    "person_=Person.objects.get(id=1)\n",
    "group_=Group.objects.get(id=1)\n",
    "#多对多关系(采用中间表的方式)采用如下方式设置\n",
    "m1=Membership(group=group_,person=person_,inviter=person_,invite_reason='邀请原因')\n",
    "m1.save()\n",
    "Membership.objects.all()"
   ]
  },
  {
   "cell_type": "markdown",
   "metadata": {},
   "source": [
    "#### 与普通的多对多不一样，使用自定义中间表的多对多不能使用add(), create(),remove(),和set()方法来创建、删除关系，。唯一的办法只能是通过创建中间模型的实例来创建这种类型的多对多关联。但是，clear()方法是有效的，它能清空所有的多对多关系。"
   ]
  },
  {
   "cell_type": "code",
   "execution_count": 23,
   "metadata": {},
   "outputs": [
    {
     "data": {
      "text/plain": [
       "<QuerySet []>"
      ]
     },
     "execution_count": 23,
     "metadata": {},
     "output_type": "execute_result"
    }
   ],
   "source": [
    "# 清除组对象\n",
    "group_.members.clear()\n",
    "# 删除了中间模型的对象\n",
    "Membership.objects.all()"
   ]
  },
  {
   "cell_type": "code",
   "execution_count": 10,
   "metadata": {},
   "outputs": [
    {
     "data": {
      "text/plain": [
       "<QuerySet []>"
      ]
     },
     "execution_count": 10,
     "metadata": {},
     "output_type": "execute_result"
    }
   ],
   "source": [
    "#多对多的查询操作\n",
    "# 查找组内有wei的所有的组（以wei名字）\n",
    "Group.objects.filter(members__name__startswith='wei')"
   ]
  },
  {
   "cell_type": "code",
   "execution_count": 11,
   "metadata": {},
   "outputs": [
    {
     "ename": "SyntaxError",
     "evalue": "invalid character '，' (U+FF0C) (Temp/ipykernel_3160/2541285757.py, line 1)",
     "output_type": "error",
     "traceback": [
      "\u001b[1;36m  File \u001b[1;32m\"C:\\Users\\weiha\\AppData\\Local\\Temp/ipykernel_3160/2541285757.py\"\u001b[1;36m, line \u001b[1;32m1\u001b[0m\n\u001b[1;33m    一旦你通过创建中间模型实例的方法建立了多对多的关联，你立刻就可以像普通的多对多那样进行查询操作：\u001b[0m\n\u001b[1;37m                             ^\u001b[0m\n\u001b[1;31mSyntaxError\u001b[0m\u001b[1;31m:\u001b[0m invalid character '，' (U+FF0C)\n"
     ]
    }
   ],
   "source": [
    "一旦你通过创建中间模型实例的方法建立了多对多的关联，你立刻就可以像普通的多对多那样进行查询操作：\n",
    "\n",
    "# 查找组内有Paul这个人的所有的组（以Paul开头的名字）\n",
    ">>> Group.objects.filter(members__name__startswith='Paul')\n",
    "<QuerySet [<Group: The Beatles>]>\n",
    "可以使用中间模型的属性进行查询：\n",
    "\n",
    "# 查找甲壳虫乐队中加入日期在1961年1月1日之后的成员\n",
    ">>> Person.objects.filter(\n",
    "... group__name='The Beatles',\n",
    "... membership__date_joined__gt=date(1961,1,1))\n",
    "<QuerySet [<Person: Ringo Starr]>\n",
    "可以像普通模型一样使用中间模型：\n",
    "\n",
    ">>> ringos_membership = Membership.objects.get(group=beatles, person=ringo)\n",
    ">>> ringos_membership.date_joined\n",
    "datetime.date(1962, 8, 16)\n",
    ">>> ringos_membership.invite_reason\n",
    "'Needed a new drummer.'\n",
    ">>> ringos_membership = ringo.membership_set.get(group=beatles)\n",
    ">>> ringos_membership.date_joined\n",
    "datetime.date(1962, 8, 16)\n",
    ">>> ringos_membership.invite_reason\n",
    "'Needed a new drummer.'\n",
    "这一部分内容，需要结合后面的模型query，如果暂时看不懂，没有关系。"
   ]
  },
  {
   "cell_type": "code",
   "execution_count": null,
   "metadata": {},
   "outputs": [],
   "source": []
  }
 ],
 "metadata": {
  "kernelspec": {
   "display_name": "django",
   "language": "python",
   "name": "django"
  },
  "language_info": {
   "codemirror_mode": {
    "name": "ipython",
    "version": 3
   },
   "file_extension": ".py",
   "mimetype": "text/x-python",
   "name": "python",
   "nbconvert_exporter": "python",
   "pygments_lexer": "ipython3",
   "version": "3.9.5"
  }
 },
 "nbformat": 4,
 "nbformat_minor": 4
}
